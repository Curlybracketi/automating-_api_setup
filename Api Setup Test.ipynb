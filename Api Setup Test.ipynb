{
 "cells": [
  {
   "cell_type": "code",
   "execution_count": 1,
   "metadata": {
    "scrolled": false
   },
   "outputs": [
    {
     "name": "stdout",
     "output_type": "stream",
     "text": [
      "{'status': {'timestamp': '2023-04-12T07:15:17.328Z', 'error_code': 0, 'error_message': None, 'elapsed': 16, 'credit_count': 1, 'notice': None, 'total_count': 9162}, 'data': [{'id': 1, 'name': 'Bitcoin', 'symbol': 'BTC', 'slug': 'bitcoin', 'num_market_pairs': 10155, 'date_added': '2010-07-13T00:00:00.000Z', 'tags': ['mineable', 'pow', 'sha-256', 'store-of-value', 'state-channel', 'coinbase-ventures-portfolio', 'three-arrows-capital-portfolio', 'polychain-capital-portfolio', 'binance-labs-portfolio', 'blockchain-capital-portfolio', 'boostvc-portfolio', 'cms-holdings-portfolio', 'dcg-portfolio', 'dragonfly-capital-portfolio', 'electric-capital-portfolio', 'fabric-ventures-portfolio', 'framework-ventures-portfolio', 'galaxy-digital-portfolio', 'huobi-capital-portfolio', 'alameda-research-portfolio', 'a16z-portfolio', '1confirmation-portfolio', 'winklevoss-capital-portfolio', 'usv-portfolio', 'placeholder-ventures-portfolio', 'pantera-capital-portfolio', 'multicoin-capital-portfolio', 'paradigm-portfolio', 'btc-ecosystem'], 'max_supply': 21000000, 'circulating_supply': 19343918, 'total_supply': 19343918, 'infinite_supply': False, 'platform': None, 'cmc_rank': 1, 'self_reported_circulating_supply': None, 'self_reported_market_cap': None, 'tvl_ratio': None, 'last_updated': '2023-04-12T07:13:00.000Z', 'quote': {'USD': {'price': 29985.440732681967, 'volume_24h': 17278616048.31686, 'volume_change_24h': -26.7741, 'percent_change_1h': 0.24590189, 'percent_change_24h': -0.28529108, 'percent_change_7d': 5.08301389, 'percent_change_30d': 33.68619183, 'percent_change_60d': 38.28410585, 'percent_change_90d': 65.09585983, 'market_cap': 580035906726.8599, 'market_cap_dominance': 47.4946, 'fully_diluted_market_cap': 629694255386.32, 'tvl': None, 'last_updated': '2023-04-12T07:13:00.000Z'}}}, {'id': 1027, 'name': 'Ethereum', 'symbol': 'ETH', 'slug': 'ethereum', 'num_market_pairs': 6719, 'date_added': '2015-08-07T00:00:00.000Z', 'tags': ['pos', 'smart-contracts', 'ethereum-ecosystem', 'coinbase-ventures-portfolio', 'three-arrows-capital-portfolio', 'polychain-capital-portfolio', 'binance-labs-portfolio', 'blockchain-capital-portfolio', 'boostvc-portfolio', 'cms-holdings-portfolio', 'dcg-portfolio', 'dragonfly-capital-portfolio', 'electric-capital-portfolio', 'fabric-ventures-portfolio', 'framework-ventures-portfolio', 'hashkey-capital-portfolio', 'kenetic-capital-portfolio', 'huobi-capital-portfolio', 'alameda-research-portfolio', 'a16z-portfolio', '1confirmation-portfolio', 'winklevoss-capital-portfolio', 'usv-portfolio', 'placeholder-ventures-portfolio', 'pantera-capital-portfolio', 'multicoin-capital-portfolio', 'paradigm-portfolio', 'injective-ecosystem', 'layer-1'], 'max_supply': None, 'circulating_supply': 120457776, 'total_supply': 120457776, 'infinite_supply': False, 'platform': None, 'cmc_rank': 2, 'self_reported_circulating_supply': None, 'self_reported_market_cap': None, 'tvl_ratio': None, 'last_updated': '2023-04-12T07:13:00.000Z', 'quote': {'USD': {'price': 1871.6215432367271, 'volume_24h': 8622927613.799212, 'volume_change_24h': -9.1182, 'percent_change_1h': 0.36377016, 'percent_change_24h': -2.58646345, 'percent_change_7d': -2.14306241, 'percent_change_30d': 16.44981395, 'percent_change_60d': 23.15348376, 'percent_change_90d': 33.73664652, 'market_cap': 225451368611.98398, 'market_cap_dominance': 18.4604, 'fully_diluted_market_cap': 225451368611.98, 'tvl': None, 'last_updated': '2023-04-12T07:13:00.000Z'}}}, {'id': 825, 'name': 'Tether', 'symbol': 'USDT', 'slug': 'tether', 'num_market_pairs': 51090, 'date_added': '2015-02-25T00:00:00.000Z', 'tags': ['payments', 'stablecoin', 'asset-backed-stablecoin', 'avalanche-ecosystem', 'solana-ecosystem', 'arbitrum-ecosytem', 'moonriver-ecosystem', 'injective-ecosystem', 'bnb-chain', 'usd-stablecoin', 'optimism-ecosystem'], 'max_supply': None, 'circulating_supply': 80436113655.49544, 'total_supply': 83091735571.85529, 'platform': {'id': 1027, 'name': 'Ethereum', 'symbol': 'ETH', 'slug': 'ethereum', 'token_address': '0xdac17f958d2ee523a2206206994597c13d831ec7'}, 'infinite_supply': False, 'cmc_rank': 3, 'self_reported_circulating_supply': None, 'self_reported_market_cap': None, 'tvl_ratio': None, 'last_updated': '2023-04-12T07:13:00.000Z', 'quote': {'USD': {'price': 1.0008859670939432, 'volume_24h': 28109866367.126125, 'volume_change_24h': -14.6127, 'percent_change_1h': 0.03136588, 'percent_change_24h': 0.01155098, 'percent_change_7d': 0.06655755, 'percent_change_30d': -0.31928232, 'percent_change_60d': 0.06930817, 'percent_change_90d': 0.08802416, 'market_cap': 80507377405.35889, 'market_cap_dominance': 6.5921, 'fully_diluted_market_cap': 83165352115.35, 'tvl': None, 'last_updated': '2023-04-12T07:13:00.000Z'}}}, {'id': 1839, 'name': 'BNB', 'symbol': 'BNB', 'slug': 'bnb', 'num_market_pairs': 1255, 'date_added': '2017-07-25T00:00:00.000Z', 'tags': ['marketplace', 'centralized-exchange', 'payments', 'smart-contracts', 'alameda-research-portfolio', 'multicoin-capital-portfolio', 'bnb-chain', 'layer-1'], 'max_supply': None, 'circulating_supply': 157886074.67172822, 'total_supply': 157886074.67172822, 'infinite_supply': False, 'platform': None, 'cmc_rank': 4, 'self_reported_circulating_supply': None, 'self_reported_market_cap': None, 'tvl_ratio': None, 'last_updated': '2023-04-12T07:13:00.000Z', 'quote': {'USD': {'price': 319.2503087308458, 'volume_24h': 737703775.1212554, 'volume_change_24h': -7.4136, 'percent_change_1h': 0.21819518, 'percent_change_24h': -3.82017207, 'percent_change_7d': 1.23392139, 'percent_change_30d': 4.92602204, 'percent_change_60d': 3.50411944, 'percent_change_90d': 11.95820696, 'market_cap': 50405178083.25061, 'market_cap_dominance': 4.1273, 'fully_diluted_market_cap': 50405178083.25, 'tvl': None, 'last_updated': '2023-04-12T07:13:00.000Z'}}}, {'id': 3408, 'name': 'USD Coin', 'symbol': 'USDC', 'slug': 'usd-coin', 'num_market_pairs': 11701, 'date_added': '2018-10-08T00:00:00.000Z', 'tags': ['medium-of-exchange', 'stablecoin', 'asset-backed-stablecoin', 'fantom-ecosystem', 'arbitrum-ecosytem', 'moonriver-ecosystem', 'bnb-chain', 'usd-stablecoin', 'optimism-ecosystem'], 'max_supply': None, 'circulating_supply': 32397426464.026527, 'total_supply': 32397426464.026527, 'platform': {'id': 1027, 'name': 'Ethereum', 'symbol': 'ETH', 'slug': 'ethereum', 'token_address': '0xa0b86991c6218b36c1d19d4a2e9eb0ce3606eb48'}, 'infinite_supply': False, 'cmc_rank': 5, 'self_reported_circulating_supply': None, 'self_reported_market_cap': None, 'tvl_ratio': None, 'last_updated': '2023-04-12T07:13:00.000Z', 'quote': {'USD': {'price': 0.9999580087493148, 'volume_24h': 3870652209.4952354, 'volume_change_24h': -10.9873, 'percent_change_1h': 0.04376641, 'percent_change_24h': 0.00965758, 'percent_change_7d': 0.01161178, 'percent_change_30d': 0.84577339, 'percent_change_60d': -0.00967175, 'percent_change_90d': -0.01026538, 'market_cap': 32396066055.570324, 'market_cap_dominance': 2.6529, 'fully_diluted_market_cap': 32396066055.57, 'tvl': None, 'last_updated': '2023-04-12T07:13:00.000Z'}}}, {'id': 52, 'name': 'XRP', 'symbol': 'XRP', 'slug': 'xrp', 'num_market_pairs': 929, 'date_added': '2013-08-04T00:00:00.000Z', 'tags': ['medium-of-exchange', 'enterprise-solutions', 'arrington-xrp-capital-portfolio', 'galaxy-digital-portfolio', 'a16z-portfolio', 'pantera-capital-portfolio'], 'max_supply': 100000000000, 'circulating_supply': 51688470797, 'total_supply': 99989014677, 'infinite_supply': False, 'platform': None, 'cmc_rank': 6, 'self_reported_circulating_supply': None, 'self_reported_market_cap': None, 'tvl_ratio': None, 'last_updated': '2023-04-12T07:13:00.000Z', 'quote': {'USD': {'price': 0.5089569030477834, 'volume_24h': 1133490566.3599129, 'volume_change_24h': 1.6146, 'percent_change_1h': 0.27896205, 'percent_change_24h': -3.12109859, 'percent_change_7d': -2.3183392, 'percent_change_30d': 37.86305907, 'percent_change_60d': 33.33017752, 'percent_change_90d': 36.57273346, 'market_cap': 26307204020.116913, 'market_cap_dominance': 2.1543, 'fully_diluted_market_cap': 50895690304.78, 'tvl': None, 'last_updated': '2023-04-12T07:13:00.000Z'}}}, {'id': 2010, 'name': 'Cardano', 'symbol': 'ADA', 'slug': 'cardano', 'num_market_pairs': 764, 'date_added': '2017-10-01T00:00:00.000Z', 'tags': ['dpos', 'pos', 'platform', 'research', 'smart-contracts', 'staking', 'cardano-ecosystem', 'cardano', 'layer-1'], 'max_supply': 45000000000, 'circulating_supply': 34766054175.659, 'total_supply': 35677745726.912, 'infinite_supply': False, 'platform': None, 'cmc_rank': 7, 'self_reported_circulating_supply': None, 'self_reported_market_cap': None, 'tvl_ratio': None, 'last_updated': '2023-04-12T07:13:00.000Z', 'quote': {'USD': {'price': 0.3946050519753572, 'volume_24h': 427587922.78034216, 'volume_change_24h': 20.4453, 'percent_change_1h': 0.44010349, 'percent_change_24h': -2.61016231, 'percent_change_7d': -0.51653812, 'percent_change_30d': 15.5892268, 'percent_change_60d': 9.69519182, 'percent_change_90d': 21.65682393, 'market_cap': 13718860614.964003, 'market_cap_dominance': 1.1233, 'fully_diluted_market_cap': 17757227338.89, 'tvl': None, 'last_updated': '2023-04-12T07:13:00.000Z'}}}, {'id': 74, 'name': 'Dogecoin', 'symbol': 'DOGE', 'slug': 'dogecoin', 'num_market_pairs': 681, 'date_added': '2013-12-15T00:00:00.000Z', 'tags': ['mineable', 'pow', 'scrypt', 'medium-of-exchange', 'memes', 'payments', 'doggone-doggerel', 'bnb-chain'], 'max_supply': None, 'circulating_supply': 138904276383.70523, 'total_supply': 138904276383.70523, 'infinite_supply': False, 'platform': None, 'cmc_rank': 8, 'self_reported_circulating_supply': None, 'self_reported_market_cap': None, 'tvl_ratio': None, 'last_updated': '2023-04-12T07:13:00.000Z', 'quote': {'USD': {'price': 0.0820109188563768, 'volume_24h': 530695358.31895494, 'volume_change_24h': 2.8881, 'percent_change_1h': 0.43342041, 'percent_change_24h': -3.9022551, 'percent_change_7d': -15.46688888, 'percent_change_30d': 15.7912536, 'percent_change_60d': 0.4149203, 'percent_change_90d': 3.84880962, 'market_cap': 11391667339.307787, 'market_cap_dominance': 0.9329, 'fully_diluted_market_cap': 11391667339.31, 'tvl': None, 'last_updated': '2023-04-12T07:13:00.000Z'}}}, {'id': 3890, 'name': 'Polygon', 'symbol': 'MATIC', 'slug': 'polygon', 'num_market_pairs': 650, 'date_added': '2019-04-28T00:00:00.000Z', 'tags': ['platform', 'enterprise-solutions', 'zero-knowledge-proofs', 'scaling', 'state-channel', 'coinbase-ventures-portfolio', 'layer-2', 'binance-launchpad', 'binance-labs-portfolio', 'polygon-ecosystem', 'moonriver-ecosystem', 'injective-ecosystem'], 'max_supply': 10000000000, 'circulating_supply': 9219469069.28493, 'total_supply': 10000000000, 'infinite_supply': False, 'platform': None, 'cmc_rank': 9, 'self_reported_circulating_supply': None, 'self_reported_market_cap': None, 'tvl_ratio': None, 'last_updated': '2023-04-12T07:13:00.000Z', 'quote': {'USD': {'price': 1.0936694231911888, 'volume_24h': 262816792.70516533, 'volume_change_24h': 2.7635, 'percent_change_1h': 0.46001617, 'percent_change_24h': -3.1355055, 'percent_change_7d': -5.49711408, 'percent_change_30d': -3.87934209, 'percent_change_60d': -11.93303898, 'percent_change_90d': 23.22471563, 'market_cap': 10083051419.133854, 'market_cap_dominance': 0.8256, 'fully_diluted_market_cap': 10936694231.91, 'tvl': None, 'last_updated': '2023-04-12T07:13:00.000Z'}}}, {'id': 5426, 'name': 'Solana', 'symbol': 'SOL', 'slug': 'solana', 'num_market_pairs': 454, 'date_added': '2020-04-10T00:00:00.000Z', 'tags': ['pos', 'platform', 'solana-ecosystem', 'cms-holdings-portfolio', 'kenetic-capital-portfolio', 'alameda-research-portfolio', 'multicoin-capital-portfolio', 'okex-blockdream-ventures-portfolio', 'layer-1'], 'max_supply': None, 'circulating_supply': 391643040.01831436, 'total_supply': 539312704.8875339, 'infinite_supply': False, 'platform': None, 'cmc_rank': 10, 'self_reported_circulating_supply': None, 'self_reported_market_cap': None, 'tvl_ratio': None, 'last_updated': '2023-04-12T07:13:00.000Z', 'quote': {'USD': {'price': 22.9737372539544, 'volume_24h': 1095201038.2851686, 'volume_change_24h': 117.241, 'percent_change_1h': 0.99955941, 'percent_change_24h': 2.33365854, 'percent_change_7d': 8.15630525, 'percent_change_30d': 16.04920113, 'percent_change_60d': 13.07752369, 'percent_change_90d': 41.13292931, 'market_cap': 8997504298.720703, 'market_cap_dominance': 0.7368, 'fully_diluted_market_cap': 12390028379.81, 'tvl': None, 'last_updated': '2023-04-12T07:13:00.000Z'}}}]}\n"
     ]
    }
   ],
   "source": [
    "from requests import Request, Session\n",
    "from requests.exceptions import ConnectionError, Timeout, TooManyRedirects\n",
    "import json\n",
    "\n",
    "url = 'https://pro-api.coinmarketcap.com/v1/cryptocurrency/listings/latest'\n",
    "parameters = {\n",
    "  'start':'1',\n",
    "  'limit':'10',\n",
    "  'convert':'USD'\n",
    "}\n",
    "headers = {\n",
    "  'Accepts': 'application/json',\n",
    "  'X-CMC_PRO_API_KEY': '101c46b1-6577-4ce4-b934-711051564bbf',\n",
    "}\n",
    "\n",
    "session = Session()\n",
    "session.headers.update(headers)\n",
    "\n",
    "try:\n",
    "  response = session.get(url, params=parameters)\n",
    "  data = json.loads(response.text)\n",
    "  print(data)\n",
    "except (ConnectionError, Timeout, TooManyRedirects) as e:\n",
    "  print(e)\n",
    "\n",
    "#raw data pulled using coinmarketcap api\n"
   ]
  },
  {
   "cell_type": "code",
   "execution_count": 2,
   "metadata": {},
   "outputs": [],
   "source": [
    "#type(data)"
   ]
  },
  {
   "cell_type": "code",
   "execution_count": null,
   "metadata": {},
   "outputs": [],
   "source": [
    "import pandas as pd\n",
    "pd.set_option('display.max_columns', None)\n",
    "pd.set_option('display.max_columns', None)"
   ]
  },
  {
   "cell_type": "code",
   "execution_count": null,
   "metadata": {},
   "outputs": [],
   "source": [
    "df = pd.json_normalize(data['data'])\n",
    "df['timestamp'] = pd.to_datetime('now')\n",
    "df.head()"
   ]
  },
  {
   "cell_type": "code",
   "execution_count": null,
   "metadata": {},
   "outputs": [],
   "source": [
    "def api_runner():\n",
    "    global df\n",
    "    url = 'https://pro-api.coinmarketcap.com/v1/cryptocurrency/listings/latest'\n",
    "    parameters = {\n",
    "      'start':'1',\n",
    "      'limit':'10',\n",
    "      'convert':'USD'\n",
    "    }\n",
    "    headers = {\n",
    "      'Accepts': 'application/json',\n",
    "      'X-CMC_PRO_API_KEY': '101c46b1-6577-4ce4-b934-711051564bbf',\n",
    "    }\n",
    "\n",
    "    session = Session()\n",
    "    session.headers.update(headers)\n",
    "\n",
    "    try:\n",
    "      response = session.get(url, params=parameters)\n",
    "      data = json.loads(response.text)\n",
    "      print(data)\n",
    "    except (ConnectionError, Timeout, TooManyRedirects) as e:\n",
    "      print(e)\n",
    "\n",
    "    df = pd.json_normalize(data['data'])\n",
    "    df['timestamp'] = pd.to_datetime('now')\n",
    "    df \n",
    "    \n",
    "    pd.set_option('display.float_format', lambda x: '%.5f' % x)\n",
    "    \n",
    "    if not os.path.isfile(r'C:\\Users\\CHISA\\Api.csv'):\n",
    "        df.to_csv(r'C:\\Users\\CHISA\\Api.csv', header='columns_names')\n",
    "    else:\n",
    "        df.to_csv(r'C:\\Users\\CHISA\\Api.csv', mode= 'a', header=False)\n",
    "            "
   ]
  },
  {
   "cell_type": "code",
   "execution_count": null,
   "metadata": {
    "scrolled": true
   },
   "outputs": [],
   "source": [
    "import os\n",
    "from time import time\n",
    "from time import sleep\n",
    "\n",
    "for i in range(10):\n",
    "    api_runner()\n",
    "    print(\"Api Runner completed\")\n",
    "    sleep(60) #sleep for 1 minute\n",
    "exit()"
   ]
  },
  {
   "cell_type": "code",
   "execution_count": null,
   "metadata": {
    "scrolled": false
   },
   "outputs": [],
   "source": [
    "df32 = pd.read_csv(r'C:\\Users\\CHISA\\Api.csv')"
   ]
  },
  {
   "cell_type": "code",
   "execution_count": null,
   "metadata": {},
   "outputs": [],
   "source": [
    "#pd.set_option('display.float_format', lambda x: '%.5f' % x)"
   ]
  },
  {
   "cell_type": "code",
   "execution_count": null,
   "metadata": {},
   "outputs": [],
   "source": [
    "#df.head()"
   ]
  },
  {
   "cell_type": "code",
   "execution_count": null,
   "metadata": {
    "scrolled": false
   },
   "outputs": [],
   "source": [
    "df4 = df.groupby('name', sort=False)[['quote.USD.volume_change_24h', 'quote.USD.percent_change_1h', 'quote.USD.percent_change_7d', 'quote.USD.percent_change_30d', 'quote.USD.percent_change_60d', 'quote.USD.percent_change_90d']].mean()\n",
    "df4.head()"
   ]
  },
  {
   "cell_type": "code",
   "execution_count": null,
   "metadata": {},
   "outputs": [],
   "source": [
    "df32=df4.stack()\n",
    "df32.head()"
   ]
  },
  {
   "cell_type": "code",
   "execution_count": null,
   "metadata": {},
   "outputs": [],
   "source": [
    "#type(df32)"
   ]
  },
  {
   "cell_type": "code",
   "execution_count": null,
   "metadata": {},
   "outputs": [],
   "source": [
    "df5 = df32.to_frame(name='values')\n",
    "df5.head()"
   ]
  },
  {
   "cell_type": "code",
   "execution_count": null,
   "metadata": {},
   "outputs": [],
   "source": [
    "#type(df5)"
   ]
  },
  {
   "cell_type": "code",
   "execution_count": null,
   "metadata": {},
   "outputs": [],
   "source": [
    "df5.count()"
   ]
  },
  {
   "cell_type": "code",
   "execution_count": null,
   "metadata": {},
   "outputs": [],
   "source": [
    "index = pd.Index(range(60))\n",
    "df6 = df5.reset_index()\n",
    "df6.head()"
   ]
  },
  {
   "cell_type": "code",
   "execution_count": null,
   "metadata": {},
   "outputs": [],
   "source": [
    "df7 = df6.rename(columns={'level_1': 'percent_change'})\n",
    "df7.head()"
   ]
  },
  {
   "cell_type": "code",
   "execution_count": null,
   "metadata": {},
   "outputs": [],
   "source": [
    " tweets_to_token"
   ]
  },
  {
   "cell_type": "code",
   "execution_count": null,
   "metadata": {},
   "outputs": [],
   "source": [
    "import seaborn as sns\n",
    "import matplotlib.pyplot as plt"
   ]
  },
  {
   "cell_type": "code",
   "execution_count": null,
   "metadata": {},
   "outputs": [],
   "source": [
    "sns.catplot(x='percent_change', y='values', hue='name', data=df7, kind='point')"
   ]
  },
  {
   "cell_type": "code",
   "execution_count": null,
   "metadata": {},
   "outputs": [],
   "source": [
    "df11 =  df[['name', 'quote.USD.price','timestamp' ]]\n",
    "df11 = df11.query(\"name== 'Bitcoin'\")\n",
    "df11.head()"
   ]
  },
  {
   "cell_type": "code",
   "execution_count": null,
   "metadata": {},
   "outputs": [],
   "source": [
    "#sns.set_theme(style=\"darkgrid\")\n",
    "#sns.lineplot(x='timestamp', y='quote.USD.price', data = df11)"
   ]
  },
  {
   "cell_type": "code",
   "execution_count": null,
   "metadata": {},
   "outputs": [],
   "source": [
    "df12 =  df[['name', 'quote.USD.price','timestamp' ]]\n",
    "df12 = df12.query(\"name== 'Ethereum'\")\n",
    "df12.head()"
   ]
  },
  {
   "cell_type": "code",
   "execution_count": null,
   "metadata": {},
   "outputs": [],
   "source": []
  }
 ],
 "metadata": {
  "kernelspec": {
   "display_name": "Python 3",
   "language": "python",
   "name": "python3"
  },
  "language_info": {
   "codemirror_mode": {
    "name": "ipython",
    "version": 3
   },
   "file_extension": ".py",
   "mimetype": "text/x-python",
   "name": "python",
   "nbconvert_exporter": "python",
   "pygments_lexer": "ipython3",
   "version": "3.7.6"
  }
 },
 "nbformat": 4,
 "nbformat_minor": 4
}
